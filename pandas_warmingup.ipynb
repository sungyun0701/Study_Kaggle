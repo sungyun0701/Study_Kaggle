{
  "nbformat": 4,
  "nbformat_minor": 0,
  "metadata": {
    "colab": {
      "name": "pd_warmingup_0315.ipynb",
      "provenance": [],
      "collapsed_sections": [],
      "authorship_tag": "ABX9TyN/457W/DQtzObbHREB9VdB",
      "include_colab_link": true
    },
    "kernelspec": {
      "name": "python3",
      "display_name": "Python 3"
    }
  },
  "cells": [
    {
      "cell_type": "markdown",
      "metadata": {
        "id": "view-in-github",
        "colab_type": "text"
      },
      "source": [
        "<a href=\"https://colab.research.google.com/github/sungyun0701/Study_Kaggle/blob/main/pandas_warmingup.ipynb\" target=\"_parent\"><img src=\"https://colab.research.google.com/assets/colab-badge.svg\" alt=\"Open In Colab\"/></a>"
      ]
    },
    {
      "cell_type": "code",
      "metadata": {
        "colab": {
          "base_uri": "https://localhost:8080/"
        },
        "id": "PQwUic2ka1dy",
        "outputId": "2dc796b5-12f5-43e8-8b58-a24a29d77fc3"
      },
      "source": [
        "!sudo apt-get install -y fonts-nanum\n",
        "!sudo fc-cache -fv\n",
        "!rm ~/.cache/matplotlib -rf"
      ],
      "execution_count": null,
      "outputs": [
        {
          "output_type": "stream",
          "text": [
            "Reading package lists... Done\n",
            "Building dependency tree       \n",
            "Reading state information... Done\n",
            "fonts-nanum is already the newest version (20170925-1).\n",
            "0 upgraded, 0 newly installed, 0 to remove and 29 not upgraded.\n",
            "/usr/share/fonts: caching, new cache contents: 0 fonts, 1 dirs\n",
            "/usr/share/fonts/truetype: caching, new cache contents: 0 fonts, 3 dirs\n",
            "/usr/share/fonts/truetype/humor-sans: caching, new cache contents: 1 fonts, 0 dirs\n",
            "/usr/share/fonts/truetype/liberation: caching, new cache contents: 16 fonts, 0 dirs\n",
            "/usr/share/fonts/truetype/nanum: caching, new cache contents: 10 fonts, 0 dirs\n",
            "/usr/local/share/fonts: caching, new cache contents: 0 fonts, 0 dirs\n",
            "/root/.local/share/fonts: skipping, no such directory\n",
            "/root/.fonts: skipping, no such directory\n",
            "/var/cache/fontconfig: cleaning cache directory\n",
            "/root/.cache/fontconfig: not cleaning non-existent cache directory\n",
            "/root/.fontconfig: not cleaning non-existent cache directory\n",
            "fc-cache: succeeded\n"
          ],
          "name": "stdout"
        }
      ]
    },
    {
      "cell_type": "code",
      "metadata": {
        "colab": {
          "base_uri": "https://localhost:8080/",
          "height": 265
        },
        "id": "vsP899MWdTwg",
        "outputId": "33f3c22c-751c-4946-f00d-0712fa62bc3c"
      },
      "source": [
        "names = ['황성윤', '황정민']\n",
        "scores = [100, 90]\n",
        "import matplotlib.pyplot as plt\n",
        "plt.rc('font', family='NanumBarunGothic') \n",
        "plt.barh(names, scores)\n",
        "plt.show()"
      ],
      "execution_count": null,
      "outputs": [
        {
          "output_type": "display_data",
          "data": {
            "image/png": "[encoded data removed]",
            "text/plain": [
              "<Figure size 432x288 with 1 Axes>"
            ]
          },
          "metadata": {
            "tags": [],
            "needs_background": "light"
          }
        }
      ]
    },
    {
      "cell_type": "code",
      "metadata": {
        "colab": {
          "base_uri": "https://localhost:8080/",
          "height": 550
        },
        "id": "yutoEuIehOqZ",
        "outputId": "410c217c-6b09-4097-df6c-d0820c8d8e07"
      },
      "source": [
        "import numpy as np\n",
        "import matplotlib.pyplot as plt\n",
        "plt.rc('font', family='NanumBarunGothic') \n",
        "x = np.linspace(-5, 5)  #-5~5 까지 50단계\n",
        "print(x)\n",
        "print(len(x))\n",
        "y_1 = 2 * x\n",
        "y_2 = 3 * x\n",
        "plt.xlabel('x 값', size=14)\n",
        "plt.ylabel('y 값', size=14)\n",
        "\n",
        "plt.title('그래프')\n",
        "\n",
        "plt.plot(x, y_1, label='y1')\n",
        "plt.plot(x, y_2, label='y2', linestyle='dashed')\n",
        "\n",
        "plt.legend() # 범례 표시\n",
        "plt.show()"
      ],
      "execution_count": null,
      "outputs": [
        {
          "output_type": "stream",
          "text": [
            "[-5.         -4.79591837 -4.59183673 -4.3877551  -4.18367347 -3.97959184\n",
            " -3.7755102  -3.57142857 -3.36734694 -3.16326531 -2.95918367 -2.75510204\n",
            " -2.55102041 -2.34693878 -2.14285714 -1.93877551 -1.73469388 -1.53061224\n",
            " -1.32653061 -1.12244898 -0.91836735 -0.71428571 -0.51020408 -0.30612245\n",
            " -0.10204082  0.10204082  0.30612245  0.51020408  0.71428571  0.91836735\n",
            "  1.12244898  1.32653061  1.53061224  1.73469388  1.93877551  2.14285714\n",
            "  2.34693878  2.55102041  2.75510204  2.95918367  3.16326531  3.36734694\n",
            "  3.57142857  3.7755102   3.97959184  4.18367347  4.3877551   4.59183673\n",
            "  4.79591837  5.        ]\n",
            "50\n"
          ],
          "name": "stdout"
        },
        {
          "output_type": "stream",
          "text": [
            "/usr/local/lib/python3.7/dist-packages/matplotlib/backends/backend_agg.py:214: RuntimeWarning: Glyph 8722 missing from current font.\n",
            "  font.set_text(s, 0.0, flags=flags)\n",
            "/usr/local/lib/python3.7/dist-packages/matplotlib/backends/backend_agg.py:183: RuntimeWarning: Glyph 8722 missing from current font.\n",
            "  font.set_text(s, 0, flags=flags)\n"
          ],
          "name": "stderr"
        },
        {
          "output_type": "display_data",
          "data": {
            "image/png": "[encoded data removed]",
            "text/plain": [
              "<Figure size 432x288 with 1 Axes>"
            ]
          },
          "metadata": {
            "tags": [],
            "needs_background": "light"
          }
        }
      ]
    },
    {
      "cell_type": "code",
      "metadata": {
        "colab": {
          "base_uri": "https://localhost:8080/",
          "height": 268
        },
        "id": "5K9-gQfDp8nr",
        "outputId": "3b247e78-01c7-46b9-e232-f124546dc280"
      },
      "source": [
        "import numpy as np\n",
        "import matplotlib.pyplot as plt\n",
        "x = np.array([1.2, 2.4, 0.0, 1.4, 1.5, 0.3, 0.7])\n",
        "y = np.array([2.4, 1.4, 1.0, 0.1, 1.7, 2.0, 0.6])\n",
        "plt.scatter(x, y)\n",
        "plt.grid()\n",
        "plt.show()"
      ],
      "execution_count": null,
      "outputs": [
        {
          "output_type": "display_data",
          "data": {
            "image/png": "[encoded data removed]",
            "text/plain": [
              "<Figure size 432x288 with 1 Axes>"
            ]
          },
          "metadata": {
            "tags": [],
            "needs_background": "light"
          }
        }
      ]
    },
    {
      "cell_type": "code",
      "metadata": {
        "colab": {
          "base_uri": "https://localhost:8080/",
          "height": 671
        },
        "id": "Ord_FBBmrK-q",
        "outputId": "b763dd4b-df39-4f0d-e841-9b06d50bc6f5"
      },
      "source": [
        "import numpy as np\n",
        "import matplotlib.pyplot as plt\n",
        "plt.rc('font', family='NanumBarunGothic') \n",
        "\n",
        "name_list = []\n",
        "subject = ['국어', '수학', '영어']\n",
        "score_list = []\n",
        "subject_list=[]\n",
        "\n",
        "while True:\n",
        "  name = input('이름 : ')\n",
        "  if name=='quit':\n",
        "    break\n",
        "\n",
        "  score1 = int(input('국어 점수 : '))\n",
        "  score2 = int(input('수학 점수 : '))\n",
        "  score3 = int(input('영어 점수 : '))\n",
        "  name_list.append(name)\n",
        "  score_list.append([score1,score2,score3])\n",
        "\n",
        "for i in range(len(score_list)):\n",
        "  subject_list.append(subject)\n",
        "# print(score_list)\n",
        "# print(subject_list)\n",
        "\n",
        "for i in range(len(score_list)):\n",
        "  plt.title(name_list[i])\n",
        "  plt.pie(score_list[i], labels=subject_list[i], autopct='%.1f%%')\n",
        "  plt.show()\n"
      ],
      "execution_count": null,
      "outputs": [
        {
          "output_type": "stream",
          "text": [
            "이름 : h\n",
            "국어 점수 : 100\n",
            "수학 점수 : 100\n",
            "영어 점수 : 100\n",
            "이름 : s\n",
            "국어 점수 : 98\n",
            "수학 점수 : 98\n",
            "영어 점수 : 98\n",
            "이름 : quit\n"
          ],
          "name": "stdout"
        },
        {
          "output_type": "display_data",
          "data": {
            "image/png": "[encoded data removed]",
            "text/plain": [
              "<Figure size 432x288 with 1 Axes>"
            ]
          },
          "metadata": {
            "tags": []
          }
        },
        {
          "output_type": "display_data",
          "data": {
            "image/png": "[encoded data removed]",
            "text/plain": [
              "<Figure size 432x288 with 1 Axes>"
            ]
          },
          "metadata": {
            "tags": []
          }
        }
      ]
    },
    {
      "cell_type": "code",
      "metadata": {
        "colab": {
          "base_uri": "https://localhost:8080/",
          "height": 635
        },
        "id": "O1riP6jsPP_9",
        "outputId": "233398ec-2783-4d34-99ca-e3ed6fab46cd"
      },
      "source": [
        "import numpy as np\n",
        "import matplotlib.pyplot as plt\n",
        "plt.rc('font', family='NanumBarunGothic') \n",
        "\n",
        "name_list = []\n",
        "subject = ['국어', '수학', '영어']\n",
        "score_list = []\n",
        "subject_list=[]\n",
        "\n",
        "while True:\n",
        "  name = input('이름 : ')\n",
        "  if name=='quit':\n",
        "    break\n",
        "\n",
        "  score1 = int(input('국어 점수 : '))\n",
        "  score2 = int(input('수학 점수 : '))\n",
        "  score3 = int(input('영어 점수 : '))\n",
        "  name_list.append(name)\n",
        "  score_list.append([score1,score2,score3])\n",
        "\n",
        "for i in range(len(score_list)):\n",
        "  subject_list.append(subject)\n",
        "# print(score_list)\n",
        "# print(subject_list)\n",
        "\n",
        "for i in range(len(score_list)):\n",
        "  plt.subplot(2,2,i+1)\n",
        "  plt.title(name_list[i])\n",
        "  plt.pie(score_list[i], labels=subject_list[i], autopct='%.1f%%')\n",
        "  plt.show()"
      ],
      "execution_count": null,
      "outputs": [
        {
          "output_type": "stream",
          "text": [
            "이름 : h\n",
            "국어 점수 : 100\n",
            "수학 점수 : 100\n",
            "영어 점수 : 90\n",
            "이름 : s\n",
            "국어 점수 : 90\n",
            "수학 점수 : 98\n",
            "영어 점수 : 95\n",
            "이름 : y\n",
            "국어 점수 : 70\n",
            "수학 점수 : 80\n",
            "영어 점수 : 100\n",
            "이름 : quit\n"
          ],
          "name": "stdout"
        },
        {
          "output_type": "display_data",
          "data": {
            "image/png": "[encoded data removed]",
            "text/plain": [
              "<Figure size 432x288 with 1 Axes>"
            ]
          },
          "metadata": {
            "tags": []
          }
        },
        {
          "output_type": "display_data",
          "data": {
            "image/png": "[encoded data removed]",
            "text/plain": [
              "<Figure size 432x288 with 1 Axes>"
            ]
          },
          "metadata": {
            "tags": []
          }
        },
        {
          "output_type": "display_data",
          "data": {
            "image/png": "[encoded data removed]",
            "text/plain": [
              "<Figure size 432x288 with 1 Axes>"
            ]
          },
          "metadata": {
            "tags": []
          }
        }
      ]
    },
    {
      "cell_type": "code",
      "metadata": {
        "colab": {
          "base_uri": "https://localhost:8080/",
          "height": 231
        },
        "id": "tQNvpfM5StZf",
        "outputId": "dc99bd34-2dbb-4a8f-890c-d7bf31a30d67"
      },
      "source": [
        "import numpy as np\n",
        "import matplotlib.pyplot as plt\n",
        "plt.rc('font', family='NanumBarunGothic') \n",
        "\n",
        "names = ['이미자', '이순자']\n",
        "labels = ['국어', '산수', '사회']\n",
        "score1 = [100, 72, 73]\n",
        "score2 = [71, 81, 100]\n",
        "\n",
        "x = np.array([100, 50, 89])\n",
        "\n",
        "plt.subplot(2, 2, 1)\n",
        "plt.title(names[0])\n",
        "plt.pie(score1,autopct=\"%d%%\", labels = labels)\n",
        "\n",
        "plt.subplot(2, 2,2)\n",
        "plt.title(names[1])\n",
        "plt.pie(x,autopct=\"%d%%\",labels = labels)\n",
        "\n",
        "plt.show()"
      ],
      "execution_count": null,
      "outputs": [
        {
          "output_type": "display_data",
          "data": {
            "image/png": "[encoded data removed]",
            "text/plain": [
              "<Figure size 432x288 with 2 Axes>"
            ]
          },
          "metadata": {
            "tags": []
          }
        }
      ]
    },
    {
      "cell_type": "code",
      "metadata": {
        "colab": {
          "base_uri": "https://localhost:8080/",
          "height": 265
        },
        "id": "IWdxSk9ToNu6",
        "outputId": "3896c74c-c9f6-4e5d-fd95-0f1a25a254d9"
      },
      "source": [
        "import numpy as np\n",
        "import matplotlib.pyplot as plt\n",
        "\n",
        "data = np.array([0, 1, 1, 2, 2,2,3,3,4,5,6,6,6,7,7,7])\n",
        "plt.hist(data)\n",
        "plt.show()"
      ],
      "execution_count": null,
      "outputs": [
        {
          "output_type": "display_data",
          "data": {
            "image/png": "[encoded data removed]",
            "text/plain": [
              "<Figure size 432x288 with 1 Axes>"
            ]
          },
          "metadata": {
            "tags": [],
            "needs_background": "light"
          }
        }
      ]
    },
    {
      "cell_type": "code",
      "metadata": {
        "colab": {
          "base_uri": "https://localhost:8080/"
        },
        "id": "6JNI0SG5pYyy",
        "outputId": "a252a0f5-dc27-4f99-c1f9-d3b6b4da4971"
      },
      "source": [
        "import pandas as pd\n",
        "import numpy as np\n",
        "\n",
        "sr = pd.Series({'taro':'kyoto', 'jiro':'osaka','saburo':'nara'})\n",
        "sr.head()"
      ],
      "execution_count": null,
      "outputs": [
        {
          "output_type": "execute_result",
          "data": {
            "text/plain": [
              "taro      kyoto\n",
              "jiro      osaka\n",
              "saburo     nara\n",
              "dtype: object"
            ]
          },
          "metadata": {
            "tags": []
          },
          "execution_count": 66
        }
      ]
    },
    {
      "cell_type": "code",
      "metadata": {
        "colab": {
          "base_uri": "https://localhost:8080/"
        },
        "id": "3HyZIhCDqtwy",
        "outputId": "b9d0a0ff-d79b-421c-8b4b-1006c3fc9f66"
      },
      "source": [
        "sr = pd.Series(['서울','대구','구미'], index=[1,2,3])\n",
        "sr"
      ],
      "execution_count": null,
      "outputs": [
        {
          "output_type": "execute_result",
          "data": {
            "text/plain": [
              "1    서울\n",
              "2    대구\n",
              "3    구미\n",
              "dtype: object"
            ]
          },
          "metadata": {
            "tags": []
          },
          "execution_count": 70
        }
      ]
    },
    {
      "cell_type": "code",
      "metadata": {
        "colab": {
          "base_uri": "https://localhost:8080/",
          "height": 142
        },
        "id": "80GrxzYhuTpi",
        "outputId": "dfc6b9c2-b281-4de0-8890-c391850012cb"
      },
      "source": [
        "data = {\n",
        "  'name': ['taro', 'jiro', 'saburo'],\n",
        "  'address': ['kyoto', 'osaka', 'nara'],\n",
        "  'birth': ['2020-01-01T12:00:00', '2020-02-11T12:00:00', '2020-03-22T12:00:00']\n",
        "}\n",
        "df = pd.DataFrame(data = data)\n",
        "df.head()"
      ],
      "execution_count": null,
      "outputs": [
        {
          "output_type": "execute_result",
          "data": {
            "text/html": [
              "<div>\n",
              "<style scoped>\n",
              "    .dataframe tbody tr th:only-of-type {\n",
              "        vertical-align: middle;\n",
              "    }\n",
              "\n",
              "    .dataframe tbody tr th {\n",
              "        vertical-align: top;\n",
              "    }\n",
              "\n",
              "    .dataframe thead th {\n",
              "        text-align: right;\n",
              "    }\n",
              "</style>\n",
              "<table border=\"1\" class=\"dataframe\">\n",
              "  <thead>\n",
              "    <tr style=\"text-align: right;\">\n",
              "      <th></th>\n",
              "      <th>name</th>\n",
              "      <th>address</th>\n",
              "      <th>birth</th>\n",
              "    </tr>\n",
              "  </thead>\n",
              "  <tbody>\n",
              "    <tr>\n",
              "      <th>0</th>\n",
              "      <td>taro</td>\n",
              "      <td>kyoto</td>\n",
              "      <td>2020-01-01T12:00:00</td>\n",
              "    </tr>\n",
              "    <tr>\n",
              "      <th>1</th>\n",
              "      <td>jiro</td>\n",
              "      <td>osaka</td>\n",
              "      <td>2020-02-11T12:00:00</td>\n",
              "    </tr>\n",
              "    <tr>\n",
              "      <th>2</th>\n",
              "      <td>saburo</td>\n",
              "      <td>nara</td>\n",
              "      <td>2020-03-22T12:00:00</td>\n",
              "    </tr>\n",
              "  </tbody>\n",
              "</table>\n",
              "</div>"
            ],
            "text/plain": [
              "     name address                birth\n",
              "0    taro   kyoto  2020-01-01T12:00:00\n",
              "1    jiro   osaka  2020-02-11T12:00:00\n",
              "2  saburo    nara  2020-03-22T12:00:00"
            ]
          },
          "metadata": {
            "tags": []
          },
          "execution_count": 71
        }
      ]
    },
    {
      "cell_type": "code",
      "metadata": {
        "colab": {
          "base_uri": "https://localhost:8080/",
          "height": 142
        },
        "id": "iCGbnBriuW6x",
        "outputId": "2ced8afc-4ec7-495e-a551-0e51153b1920"
      },
      "source": [
        "data = [\n",
        "  ['taro', 'kyoto', '2020-01-01T12:00:00'],\n",
        "  ['jiro', 'osaka', '2020-02-11T12:00:00'],\n",
        "  ['saburo', 'nara', '2020-03-22T12:00:00']\n",
        "]\n",
        "df = pd.DataFrame(data = data, index = ['가', '나', '다'], columns = ['name', 'address', 'birth'])\n",
        "df.head()"
      ],
      "execution_count": null,
      "outputs": [
        {
          "output_type": "execute_result",
          "data": {
            "text/html": [
              "<div>\n",
              "<style scoped>\n",
              "    .dataframe tbody tr th:only-of-type {\n",
              "        vertical-align: middle;\n",
              "    }\n",
              "\n",
              "    .dataframe tbody tr th {\n",
              "        vertical-align: top;\n",
              "    }\n",
              "\n",
              "    .dataframe thead th {\n",
              "        text-align: right;\n",
              "    }\n",
              "</style>\n",
              "<table border=\"1\" class=\"dataframe\">\n",
              "  <thead>\n",
              "    <tr style=\"text-align: right;\">\n",
              "      <th></th>\n",
              "      <th>name</th>\n",
              "      <th>address</th>\n",
              "      <th>birth</th>\n",
              "    </tr>\n",
              "  </thead>\n",
              "  <tbody>\n",
              "    <tr>\n",
              "      <th>가</th>\n",
              "      <td>taro</td>\n",
              "      <td>kyoto</td>\n",
              "      <td>2020-01-01T12:00:00</td>\n",
              "    </tr>\n",
              "    <tr>\n",
              "      <th>나</th>\n",
              "      <td>jiro</td>\n",
              "      <td>osaka</td>\n",
              "      <td>2020-02-11T12:00:00</td>\n",
              "    </tr>\n",
              "    <tr>\n",
              "      <th>다</th>\n",
              "      <td>saburo</td>\n",
              "      <td>nara</td>\n",
              "      <td>2020-03-22T12:00:00</td>\n",
              "    </tr>\n",
              "  </tbody>\n",
              "</table>\n",
              "</div>"
            ],
            "text/plain": [
              "     name address                birth\n",
              "가    taro   kyoto  2020-01-01T12:00:00\n",
              "나    jiro   osaka  2020-02-11T12:00:00\n",
              "다  saburo    nara  2020-03-22T12:00:00"
            ]
          },
          "metadata": {
            "tags": []
          },
          "execution_count": 72
        }
      ]
    },
    {
      "cell_type": "code",
      "metadata": {
        "colab": {
          "base_uri": "https://localhost:8080/",
          "height": 142
        },
        "id": "1hvMH0t-uZWT",
        "outputId": "95f71a89-3109-4516-e394-0dd69d76076e"
      },
      "source": [
        "data = [\n",
        "  ['taro', 'kyoto', '2020-01-01T12:00:00'],\n",
        "  ['jiro', 'osaka', '2020-02-11T12:00:00'],\n",
        "  ['saburo', 'nara', '2020-03-22T12:00:00']\n",
        "]\n",
        "df = pd.DataFrame(data = data, columns = ['name', 'address', 'birth'])\n",
        "df[['name', 'address']]"
      ],
      "execution_count": null,
      "outputs": [
        {
          "output_type": "execute_result",
          "data": {
            "text/html": [
              "<div>\n",
              "<style scoped>\n",
              "    .dataframe tbody tr th:only-of-type {\n",
              "        vertical-align: middle;\n",
              "    }\n",
              "\n",
              "    .dataframe tbody tr th {\n",
              "        vertical-align: top;\n",
              "    }\n",
              "\n",
              "    .dataframe thead th {\n",
              "        text-align: right;\n",
              "    }\n",
              "</style>\n",
              "<table border=\"1\" class=\"dataframe\">\n",
              "  <thead>\n",
              "    <tr style=\"text-align: right;\">\n",
              "      <th></th>\n",
              "      <th>name</th>\n",
              "      <th>address</th>\n",
              "    </tr>\n",
              "  </thead>\n",
              "  <tbody>\n",
              "    <tr>\n",
              "      <th>0</th>\n",
              "      <td>taro</td>\n",
              "      <td>kyoto</td>\n",
              "    </tr>\n",
              "    <tr>\n",
              "      <th>1</th>\n",
              "      <td>jiro</td>\n",
              "      <td>osaka</td>\n",
              "    </tr>\n",
              "    <tr>\n",
              "      <th>2</th>\n",
              "      <td>saburo</td>\n",
              "      <td>nara</td>\n",
              "    </tr>\n",
              "  </tbody>\n",
              "</table>\n",
              "</div>"
            ],
            "text/plain": [
              "     name address\n",
              "0    taro   kyoto\n",
              "1    jiro   osaka\n",
              "2  saburo    nara"
            ]
          },
          "metadata": {
            "tags": []
          },
          "execution_count": 73
        }
      ]
    }
  ]
}